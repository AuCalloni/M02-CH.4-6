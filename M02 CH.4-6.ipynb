{
 "cells": [
  {
   "metadata": {},
   "cell_type": "markdown",
   "source": [
    "4.1 Choose a number between 1 and 10 and assign it to the variable secret. \n",
    "Then, select another number between 1 and 10 and assign it to the variable guess. \n",
    "Next, write the conditional tests (if, else, and elif) to print the string 'too low' if guess is less than secret\n",
    ", 'too high' if greater than secret, and 'just right' if equal to secret.\n"
   ],
   "id": "e9f72ab55db5b448"
  },
  {
   "metadata": {
    "ExecuteTime": {
     "end_time": "2024-06-11T01:49:41.028776Z",
     "start_time": "2024-06-11T01:49:41.025379Z"
    }
   },
   "cell_type": "code",
   "source": [
    "secret = 9\n",
    "guess = 2\n",
    "if secret > guess:\n",
    "    print(\"Too low!\")\n",
    "elif secret < guess:\n",
    "    print(\"Too high!\")\n",
    "else:\n",
    "    print(\"Just Right!\")"
   ],
   "id": "baa51268197bc3e",
   "outputs": [
    {
     "name": "stdout",
     "output_type": "stream",
     "text": [
      "Too low!\n"
     ]
    }
   ],
   "execution_count": 5
  },
  {
   "metadata": {},
   "cell_type": "markdown",
   "source": "4.2 Assign True or False to the variables small and green. Write some if/else statements to print which of these matches those choices: cherry, pea, watermelon, pumpkin.",
   "id": "cc97a6ac416cf871"
  },
  {
   "metadata": {
    "ExecuteTime": {
     "end_time": "2024-06-11T01:52:43.997943Z",
     "start_time": "2024-06-11T01:52:43.994240Z"
    }
   },
   "cell_type": "code",
   "source": [
    "small = False\n",
    "green = False\n",
    "if small and green:\n",
    "    print(\"The described object seems to be a pea.\")\n",
    "elif small and not green:\n",
    "    print(\"The described object may be a cherry.\")\n",
    "elif not small and green:\n",
    "    print(\"The described object could be a watermelon.\")\n",
    "else:\n",
    "    print(\"The described object sounds like a pumpkin.\")"
   ],
   "id": "f8209528dbaedbd6",
   "outputs": [
    {
     "name": "stdout",
     "output_type": "stream",
     "text": [
      "The described object sounds like a pumpkin.\n"
     ]
    }
   ],
   "execution_count": 10
  },
  {
   "metadata": {},
   "cell_type": "markdown",
   "source": "6.1 Use a for loop to print the values of the list [3, 2, 1, 0].",
   "id": "6e650a69e698f1f8"
  },
  {
   "metadata": {
    "ExecuteTime": {
     "end_time": "2024-06-11T01:56:38.591881Z",
     "start_time": "2024-06-11T01:56:38.588481Z"
    }
   },
   "cell_type": "code",
   "source": [
    "test_list = [3,2,1,0]\n",
    "for item in test_list:\n",
    "    print(item)"
   ],
   "id": "2a35092d435653b6",
   "outputs": [
    {
     "name": "stdout",
     "output_type": "stream",
     "text": [
      "3\n",
      "2\n",
      "1\n",
      "0\n"
     ]
    }
   ],
   "execution_count": 5
  },
  {
   "metadata": {},
   "cell_type": "markdown",
   "source": "6.2 Assign the value 7 to the variable guess_me, and the value 1 to the variable number. Write a while loop that compares number with guess_me. Print 'too low' if number is less than guess me. If number equals guess_me, print 'found it!' and then exit the loop. If number is greater than guess_me, print 'oops' and then exit the loop. Increment number at the end of the loop.",
   "id": "923efc64f51caa4f"
  },
  {
   "metadata": {
    "ExecuteTime": {
     "end_time": "2024-06-11T02:02:24.800494Z",
     "start_time": "2024-06-11T02:02:24.796903Z"
    }
   },
   "cell_type": "code",
   "source": [
    "guess_me = 7\n",
    "number = 1\n",
    "while True:\n",
    "    if number < guess_me:\n",
    "        print(\"Too low!\")\n",
    "    elif number == guess_me:\n",
    "        print(\"Found it!\")\n",
    "        break\n",
    "    else:\n",
    "        print(\"Oops!\")\n",
    "        break\n",
    "    number += 1"
   ],
   "id": "ce104e8bad96e1bd",
   "outputs": [
    {
     "name": "stdout",
     "output_type": "stream",
     "text": [
      "Too low!\n",
      "Too low!\n",
      "Too low!\n",
      "Too low!\n",
      "Too low!\n",
      "Too low!\n",
      "Found it!\n"
     ]
    }
   ],
   "execution_count": 6
  },
  {
   "metadata": {},
   "cell_type": "markdown",
   "source": "6.3 Assign the value 5 to the variable guess_me. Use a for loop to iterate a variable called number over range(10). If number is less than guess_me, print 'too low'. If it equals guess_me, print found it! and then break out of the for loop. If number is greater than guess_me, print 'oops' and then exit the loop.",
   "id": "3b1dce133b484f06"
  },
  {
   "metadata": {
    "ExecuteTime": {
     "end_time": "2024-06-11T02:05:23.462358Z",
     "start_time": "2024-06-11T02:05:23.458983Z"
    }
   },
   "cell_type": "code",
   "source": [
    "guess_me = 5\n",
    "for number in range(10):\n",
    "    if number < guess_me:\n",
    "        print(\"Too low!\")\n",
    "    elif number == guess_me:\n",
    "        print(\"Found it!\")\n",
    "        break\n",
    "    else:\n",
    "        print(\"Oops!\")\n",
    "        break"
   ],
   "id": "da640d657e3ee612",
   "outputs": [
    {
     "name": "stdout",
     "output_type": "stream",
     "text": [
      "Too low!\n",
      "Too low!\n",
      "Too low!\n",
      "Too low!\n",
      "Too low!\n",
      "Found it!\n"
     ]
    }
   ],
   "execution_count": 10
  },
  {
   "metadata": {},
   "cell_type": "code",
   "outputs": [],
   "execution_count": null,
   "source": "",
   "id": "64e9e818f43a9473"
  }
 ],
 "metadata": {
  "kernelspec": {
   "display_name": "Python 3",
   "language": "python",
   "name": "python3"
  },
  "language_info": {
   "codemirror_mode": {
    "name": "ipython",
    "version": 2
   },
   "file_extension": ".py",
   "mimetype": "text/x-python",
   "name": "python",
   "nbconvert_exporter": "python",
   "pygments_lexer": "ipython2",
   "version": "2.7.6"
  }
 },
 "nbformat": 4,
 "nbformat_minor": 5
}
